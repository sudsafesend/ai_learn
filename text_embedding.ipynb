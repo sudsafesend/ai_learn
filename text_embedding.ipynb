{
 "cells": [
  {
   "cell_type": "markdown",
   "metadata": {},
   "source": [
    "Embedding -> Converting text to numbers using <b>neural</b> network techniques\n",
    "\n",
    "Prediction based encoding techniques\n",
    "\n",
    "1. word2vec\n",
    "    - CBOW : Continuous Bag of words\n",
    "    - skipgram\n",
    "2. Why word2vec\n",
    "    - Can get semantic meaning for similar words like happy, joy\n",
    "    - Higher dimensions\n",
    "    - Sparsity (more 0s)\n",
    "3. How to use word2vec\n",
    "    - Using pretrained model\n",
    "    - Using custom model\n",
    "\n",
    "Vector = magnitude x direction e.g., if a person walks <b>2 km</b> in <b>North</b>, vector would be 2N\n",
    "\n",
    "CBOW\n",
    "\n",
    "e..g, watch cricket for joy and happiness\n",
    "\n",
    "Neural Network\n",
    "\n",
    "Input           Output (middle of words when window/context is 3 )\n",
    "-----------------------\n",
    "watch, for      Cricket\n",
    "cricket, joy    for\n",
    "for, and        joy\n",
    "joy, happiness  and\n",
    "\n",
    "\n",
    "skipgram:\n",
    "\n",
    "Input           Output (middle of words when window/context is 3 )\n",
    "-----------------------\n",
    "Cricket         watch, for      \n",
    "for             cricket, joy    \n",
    "joy             for, and        \n",
    "and             joy, happiness  "
   ]
  },
  {
   "cell_type": "code",
   "execution_count": null,
   "metadata": {},
   "outputs": [
    {
     "name": "stdout",
     "output_type": "stream",
     "text": [
      "Most similar words to 'king':\n",
      "kings: 0.7138045430183411\n",
      "queen: 0.6510957479476929\n",
      "monarch: 0.6413194537162781\n",
      "crown_prince: 0.6204220056533813\n",
      "prince: 0.6159993410110474\n",
      "0.51938826\n"
     ]
    }
   ],
   "source": [
    "import gensim\n",
    "\n",
    "from gensim.models import Word2Vec, FastText, KeyedVectors\n",
    "\n",
    "# Ensure you have downloaded the file locally from Kaggle or use the Kaggle API to download it programmatically.\n",
    "# Replace 'path_to_model.bin' with the actual path to the downloaded binary file.\n",
    "# Update the model_path to the actual local path of the downloaded binary file\n",
    "model_path = \"C:\\\\Users\\\\SudhindraGarre\\\\Downloads\\\\GoogleNews-vectors-negative300.bin.gz\"  # Replace with the correct local path\n",
    "\n",
    "# Load the word2vec model\n",
    "word_vectors = KeyedVectors.load_word2vec_format(model_path, binary=True, limit=100000)\n",
    "\n",
    "# Example usage: Get the vector for a word\n",
    "word = \"king\"\n",
    "vector = word_vectors[word]\n",
    "\n",
    "# Find the most similar words to \"king\"\n",
    "# Print the vector for the word \"king\"\n",
    "# print(f\"Vector for 'king': {vector}\")\n",
    "# Print the most similar words to \"king\"\n",
    "print(\"Most similar words to 'king':\")\n",
    "for similar_word, similarity in word_vectors.most_similar(\"king\", topn=5):\n",
    "    print(f\"{similar_word}: {similarity}\")\n",
    "\n",
    "print(word_vectors.similarity(\"boy\", \"baby\"))  # Example of finding similarity between two words"
   ]
  },
  {
   "cell_type": "markdown",
   "metadata": {},
   "source": [
    "----Creating custom text embedding model---"
   ]
  },
  {
   "cell_type": "code",
   "execution_count": null,
   "metadata": {},
   "outputs": [
    {
     "name": "stdout",
     "output_type": "stream",
     "text": [
      "Number of sentences in the story: 145020\n",
      "145020\n",
      "(11760, 3)\n"
     ]
    },
    {
     "data": {
      "application/vnd.plotly.v1+json": {
       "config": {
        "plotlyServerURL": "https://plot.ly"
       },
       "data": [
        {
         "hovertemplate": "x=%{x}<br>y=%{y}<br>z=%{z}<br>color=%{marker.color}<extra></extra>",
         "legendgroup": "",
         "marker": {
          "color": [
           200,
           201,
           202,
           203,
           204,
           205,
           206,
           207,
           208,
           209,
           210,
           211,
           212,
           213,
           214,
           215,
           216,
           217,
           218,
           219,
           220,
           221,
           222,
           223,
           224,
           225,
           226,
           227,
           228,
           229,
           230,
           231,
           232,
           233,
           234,
           235,
           236,
           237,
           238,
           239,
           240,
           241,
           242,
           243,
           244,
           245,
           246,
           247,
           248,
           249
          ],
          "coloraxis": "coloraxis",
          "symbol": "circle"
         },
         "mode": "markers",
         "name": "",
         "scene": "scene",
         "showlegend": false,
         "type": "scatter3d",
         "x": [
          -0.2275293469429016,
          0.44938111305236816,
          0.5439900159835815,
          0.27261847257614136,
          0.560996413230896,
          0.06296563148498535,
          0.5989289283752441,
          0.5949430465698242,
          0.5103999376296997,
          0.4419998824596405,
          0.5184699296951294,
          0.4911828637123108,
          0.42494645714759827,
          0.44165998697280884,
          0.4148303270339966,
          0.22003310918807983,
          0.6271615028381348,
          -0.3916880190372467,
          -0.2952793538570404,
          -0.10066571831703186,
          0.29973775148391724,
          -0.018283933401107788,
          -0.5937269926071167,
          -0.2882676422595978,
          -0.5120148658752441,
          -0.07486353814601898,
          -0.40021535754203796,
          -0.13918843865394592,
          -0.049481362104415894,
          0.469614714384079,
          0.06401289999485016,
          0.0841534286737442,
          0.6009893417358398,
          0.05496126413345337,
          0.17629534006118774,
          0.4721539318561554,
          0.5566521883010864,
          0.33761680126190186,
          0.5269538164138794,
          0.35268351435661316,
          -0.3359169661998749,
          -0.44153574109077454,
          0.2734614908695221,
          -0.1775502860546112,
          -0.3174491226673126,
          0.37239426374435425,
          0.49427661299705505,
          0.08848141878843307,
          -0.24254336953163147,
          0.1243208795785904
         ],
         "y": [
          -0.1540280282497406,
          -0.512061357498169,
          -0.3200221061706543,
          -0.1102554202079773,
          -0.3160300850868225,
          -0.2234956920146942,
          -0.2417449951171875,
          -0.3215276002883911,
          -0.28957051038742065,
          -0.25747621059417725,
          -0.3491644859313965,
          -0.11039718985557556,
          -0.3666411340236664,
          -0.28341495990753174,
          -0.24563086032867432,
          -0.21638843417167664,
          -0.3323775827884674,
          -0.2206990122795105,
          -0.2932692766189575,
          -0.4708757996559143,
          -0.14447514712810516,
          -0.04546502232551575,
          -0.5288645625114441,
          -0.10675105452537537,
          -0.3517751097679138,
          -0.33630794286727905,
          -0.5771541595458984,
          -0.5070234537124634,
          -0.34636855125427246,
          -0.7233830690383911,
          0.05922490358352661,
          -0.33032017946243286,
          -0.20756062865257263,
          -0.053070247173309326,
          -0.4089728593826294,
          -0.3136204779148102,
          -0.4041551351547241,
          -0.08873951435089111,
          -0.24490109086036682,
          -0.5643870830535889,
          -0.18284976482391357,
          -0.3324815630912781,
          -0.6724763512611389,
          -0.3324624300003052,
          -0.28245073556900024,
          -0.6206449270248413,
          -0.6111733317375183,
          -0.7237354516983032,
          -0.3089602589607239,
          -0.6406762003898621
         ],
         "z": [
          0.5859369039535522,
          0.2773907482624054,
          0.39958301186561584,
          0.3445740342140198,
          0.30726808309555054,
          0.46689409017562866,
          0.30910465121269226,
          0.3506622910499573,
          0.31368255615234375,
          0.39360862970352173,
          0.5450471639633179,
          0.49283313751220703,
          0.6390847563743591,
          0.2535151243209839,
          0.47973859310150146,
          0.6528834104537964,
          0.49146705865859985,
          0.10805860161781311,
          0.566789984703064,
          0.027359068393707275,
          0.8086163997650146,
          0.495073139667511,
          0.08839187026023865,
          0.49272483587265015,
          0.4466148614883423,
          0.2995638847351074,
          0.3603353202342987,
          0.11672627925872803,
          0.6229562759399414,
          -0.011223375797271729,
          0.5388526320457458,
          0.566159725189209,
          0.6022688746452332,
          0.5229552388191223,
          0.46389439702033997,
          0.33627235889434814,
          0.3456077575683594,
          0.4344463050365448,
          0.31192415952682495,
          0.13367319107055664,
          0.36199766397476196,
          0.2205253541469574,
          0.4309205710887909,
          -0.0032377243041992188,
          0.43954741954803467,
          0.3518238961696625,
          -0.017722368240356445,
          -0.04486668109893799,
          0.3751683831214905,
          0.4277506172657013
         ]
        }
       ],
       "layout": {
        "coloraxis": {
         "colorbar": {
          "title": {
           "text": "color"
          }
         },
         "colorscale": [
          [
           0,
           "#0d0887"
          ],
          [
           0.1111111111111111,
           "#46039f"
          ],
          [
           0.2222222222222222,
           "#7201a8"
          ],
          [
           0.3333333333333333,
           "#9c179e"
          ],
          [
           0.4444444444444444,
           "#bd3786"
          ],
          [
           0.5555555555555556,
           "#d8576b"
          ],
          [
           0.6666666666666666,
           "#ed7953"
          ],
          [
           0.7777777777777778,
           "#fb9f3a"
          ],
          [
           0.8888888888888888,
           "#fdca26"
          ],
          [
           1,
           "#f0f921"
          ]
         ]
        },
        "legend": {
         "tracegroupgap": 0
        },
        "margin": {
         "t": 60
        },
        "scene": {
         "domain": {
          "x": [
           0,
           1
          ],
          "y": [
           0,
           1
          ]
         },
         "xaxis": {
          "title": {
           "text": "x"
          }
         },
         "yaxis": {
          "title": {
           "text": "y"
          }
         },
         "zaxis": {
          "title": {
           "text": "z"
          }
         }
        },
        "template": {
         "data": {
          "bar": [
           {
            "error_x": {
             "color": "#2a3f5f"
            },
            "error_y": {
             "color": "#2a3f5f"
            },
            "marker": {
             "line": {
              "color": "#E5ECF6",
              "width": 0.5
             },
             "pattern": {
              "fillmode": "overlay",
              "size": 10,
              "solidity": 0.2
             }
            },
            "type": "bar"
           }
          ],
          "barpolar": [
           {
            "marker": {
             "line": {
              "color": "#E5ECF6",
              "width": 0.5
             },
             "pattern": {
              "fillmode": "overlay",
              "size": 10,
              "solidity": 0.2
             }
            },
            "type": "barpolar"
           }
          ],
          "carpet": [
           {
            "aaxis": {
             "endlinecolor": "#2a3f5f",
             "gridcolor": "white",
             "linecolor": "white",
             "minorgridcolor": "white",
             "startlinecolor": "#2a3f5f"
            },
            "baxis": {
             "endlinecolor": "#2a3f5f",
             "gridcolor": "white",
             "linecolor": "white",
             "minorgridcolor": "white",
             "startlinecolor": "#2a3f5f"
            },
            "type": "carpet"
           }
          ],
          "choropleth": [
           {
            "colorbar": {
             "outlinewidth": 0,
             "ticks": ""
            },
            "type": "choropleth"
           }
          ],
          "contour": [
           {
            "colorbar": {
             "outlinewidth": 0,
             "ticks": ""
            },
            "colorscale": [
             [
              0,
              "#0d0887"
             ],
             [
              0.1111111111111111,
              "#46039f"
             ],
             [
              0.2222222222222222,
              "#7201a8"
             ],
             [
              0.3333333333333333,
              "#9c179e"
             ],
             [
              0.4444444444444444,
              "#bd3786"
             ],
             [
              0.5555555555555556,
              "#d8576b"
             ],
             [
              0.6666666666666666,
              "#ed7953"
             ],
             [
              0.7777777777777778,
              "#fb9f3a"
             ],
             [
              0.8888888888888888,
              "#fdca26"
             ],
             [
              1,
              "#f0f921"
             ]
            ],
            "type": "contour"
           }
          ],
          "contourcarpet": [
           {
            "colorbar": {
             "outlinewidth": 0,
             "ticks": ""
            },
            "type": "contourcarpet"
           }
          ],
          "heatmap": [
           {
            "colorbar": {
             "outlinewidth": 0,
             "ticks": ""
            },
            "colorscale": [
             [
              0,
              "#0d0887"
             ],
             [
              0.1111111111111111,
              "#46039f"
             ],
             [
              0.2222222222222222,
              "#7201a8"
             ],
             [
              0.3333333333333333,
              "#9c179e"
             ],
             [
              0.4444444444444444,
              "#bd3786"
             ],
             [
              0.5555555555555556,
              "#d8576b"
             ],
             [
              0.6666666666666666,
              "#ed7953"
             ],
             [
              0.7777777777777778,
              "#fb9f3a"
             ],
             [
              0.8888888888888888,
              "#fdca26"
             ],
             [
              1,
              "#f0f921"
             ]
            ],
            "type": "heatmap"
           }
          ],
          "heatmapgl": [
           {
            "colorbar": {
             "outlinewidth": 0,
             "ticks": ""
            },
            "colorscale": [
             [
              0,
              "#0d0887"
             ],
             [
              0.1111111111111111,
              "#46039f"
             ],
             [
              0.2222222222222222,
              "#7201a8"
             ],
             [
              0.3333333333333333,
              "#9c179e"
             ],
             [
              0.4444444444444444,
              "#bd3786"
             ],
             [
              0.5555555555555556,
              "#d8576b"
             ],
             [
              0.6666666666666666,
              "#ed7953"
             ],
             [
              0.7777777777777778,
              "#fb9f3a"
             ],
             [
              0.8888888888888888,
              "#fdca26"
             ],
             [
              1,
              "#f0f921"
             ]
            ],
            "type": "heatmapgl"
           }
          ],
          "histogram": [
           {
            "marker": {
             "pattern": {
              "fillmode": "overlay",
              "size": 10,
              "solidity": 0.2
             }
            },
            "type": "histogram"
           }
          ],
          "histogram2d": [
           {
            "colorbar": {
             "outlinewidth": 0,
             "ticks": ""
            },
            "colorscale": [
             [
              0,
              "#0d0887"
             ],
             [
              0.1111111111111111,
              "#46039f"
             ],
             [
              0.2222222222222222,
              "#7201a8"
             ],
             [
              0.3333333333333333,
              "#9c179e"
             ],
             [
              0.4444444444444444,
              "#bd3786"
             ],
             [
              0.5555555555555556,
              "#d8576b"
             ],
             [
              0.6666666666666666,
              "#ed7953"
             ],
             [
              0.7777777777777778,
              "#fb9f3a"
             ],
             [
              0.8888888888888888,
              "#fdca26"
             ],
             [
              1,
              "#f0f921"
             ]
            ],
            "type": "histogram2d"
           }
          ],
          "histogram2dcontour": [
           {
            "colorbar": {
             "outlinewidth": 0,
             "ticks": ""
            },
            "colorscale": [
             [
              0,
              "#0d0887"
             ],
             [
              0.1111111111111111,
              "#46039f"
             ],
             [
              0.2222222222222222,
              "#7201a8"
             ],
             [
              0.3333333333333333,
              "#9c179e"
             ],
             [
              0.4444444444444444,
              "#bd3786"
             ],
             [
              0.5555555555555556,
              "#d8576b"
             ],
             [
              0.6666666666666666,
              "#ed7953"
             ],
             [
              0.7777777777777778,
              "#fb9f3a"
             ],
             [
              0.8888888888888888,
              "#fdca26"
             ],
             [
              1,
              "#f0f921"
             ]
            ],
            "type": "histogram2dcontour"
           }
          ],
          "mesh3d": [
           {
            "colorbar": {
             "outlinewidth": 0,
             "ticks": ""
            },
            "type": "mesh3d"
           }
          ],
          "parcoords": [
           {
            "line": {
             "colorbar": {
              "outlinewidth": 0,
              "ticks": ""
             }
            },
            "type": "parcoords"
           }
          ],
          "pie": [
           {
            "automargin": true,
            "type": "pie"
           }
          ],
          "scatter": [
           {
            "fillpattern": {
             "fillmode": "overlay",
             "size": 10,
             "solidity": 0.2
            },
            "type": "scatter"
           }
          ],
          "scatter3d": [
           {
            "line": {
             "colorbar": {
              "outlinewidth": 0,
              "ticks": ""
             }
            },
            "marker": {
             "colorbar": {
              "outlinewidth": 0,
              "ticks": ""
             }
            },
            "type": "scatter3d"
           }
          ],
          "scattercarpet": [
           {
            "marker": {
             "colorbar": {
              "outlinewidth": 0,
              "ticks": ""
             }
            },
            "type": "scattercarpet"
           }
          ],
          "scattergeo": [
           {
            "marker": {
             "colorbar": {
              "outlinewidth": 0,
              "ticks": ""
             }
            },
            "type": "scattergeo"
           }
          ],
          "scattergl": [
           {
            "marker": {
             "colorbar": {
              "outlinewidth": 0,
              "ticks": ""
             }
            },
            "type": "scattergl"
           }
          ],
          "scattermapbox": [
           {
            "marker": {
             "colorbar": {
              "outlinewidth": 0,
              "ticks": ""
             }
            },
            "type": "scattermapbox"
           }
          ],
          "scatterpolar": [
           {
            "marker": {
             "colorbar": {
              "outlinewidth": 0,
              "ticks": ""
             }
            },
            "type": "scatterpolar"
           }
          ],
          "scatterpolargl": [
           {
            "marker": {
             "colorbar": {
              "outlinewidth": 0,
              "ticks": ""
             }
            },
            "type": "scatterpolargl"
           }
          ],
          "scatterternary": [
           {
            "marker": {
             "colorbar": {
              "outlinewidth": 0,
              "ticks": ""
             }
            },
            "type": "scatterternary"
           }
          ],
          "surface": [
           {
            "colorbar": {
             "outlinewidth": 0,
             "ticks": ""
            },
            "colorscale": [
             [
              0,
              "#0d0887"
             ],
             [
              0.1111111111111111,
              "#46039f"
             ],
             [
              0.2222222222222222,
              "#7201a8"
             ],
             [
              0.3333333333333333,
              "#9c179e"
             ],
             [
              0.4444444444444444,
              "#bd3786"
             ],
             [
              0.5555555555555556,
              "#d8576b"
             ],
             [
              0.6666666666666666,
              "#ed7953"
             ],
             [
              0.7777777777777778,
              "#fb9f3a"
             ],
             [
              0.8888888888888888,
              "#fdca26"
             ],
             [
              1,
              "#f0f921"
             ]
            ],
            "type": "surface"
           }
          ],
          "table": [
           {
            "cells": {
             "fill": {
              "color": "#EBF0F8"
             },
             "line": {
              "color": "white"
             }
            },
            "header": {
             "fill": {
              "color": "#C8D4E3"
             },
             "line": {
              "color": "white"
             }
            },
            "type": "table"
           }
          ]
         },
         "layout": {
          "annotationdefaults": {
           "arrowcolor": "#2a3f5f",
           "arrowhead": 0,
           "arrowwidth": 1
          },
          "autotypenumbers": "strict",
          "coloraxis": {
           "colorbar": {
            "outlinewidth": 0,
            "ticks": ""
           }
          },
          "colorscale": {
           "diverging": [
            [
             0,
             "#8e0152"
            ],
            [
             0.1,
             "#c51b7d"
            ],
            [
             0.2,
             "#de77ae"
            ],
            [
             0.3,
             "#f1b6da"
            ],
            [
             0.4,
             "#fde0ef"
            ],
            [
             0.5,
             "#f7f7f7"
            ],
            [
             0.6,
             "#e6f5d0"
            ],
            [
             0.7,
             "#b8e186"
            ],
            [
             0.8,
             "#7fbc41"
            ],
            [
             0.9,
             "#4d9221"
            ],
            [
             1,
             "#276419"
            ]
           ],
           "sequential": [
            [
             0,
             "#0d0887"
            ],
            [
             0.1111111111111111,
             "#46039f"
            ],
            [
             0.2222222222222222,
             "#7201a8"
            ],
            [
             0.3333333333333333,
             "#9c179e"
            ],
            [
             0.4444444444444444,
             "#bd3786"
            ],
            [
             0.5555555555555556,
             "#d8576b"
            ],
            [
             0.6666666666666666,
             "#ed7953"
            ],
            [
             0.7777777777777778,
             "#fb9f3a"
            ],
            [
             0.8888888888888888,
             "#fdca26"
            ],
            [
             1,
             "#f0f921"
            ]
           ],
           "sequentialminus": [
            [
             0,
             "#0d0887"
            ],
            [
             0.1111111111111111,
             "#46039f"
            ],
            [
             0.2222222222222222,
             "#7201a8"
            ],
            [
             0.3333333333333333,
             "#9c179e"
            ],
            [
             0.4444444444444444,
             "#bd3786"
            ],
            [
             0.5555555555555556,
             "#d8576b"
            ],
            [
             0.6666666666666666,
             "#ed7953"
            ],
            [
             0.7777777777777778,
             "#fb9f3a"
            ],
            [
             0.8888888888888888,
             "#fdca26"
            ],
            [
             1,
             "#f0f921"
            ]
           ]
          },
          "colorway": [
           "#636efa",
           "#EF553B",
           "#00cc96",
           "#ab63fa",
           "#FFA15A",
           "#19d3f3",
           "#FF6692",
           "#B6E880",
           "#FF97FF",
           "#FECB52"
          ],
          "font": {
           "color": "#2a3f5f"
          },
          "geo": {
           "bgcolor": "white",
           "lakecolor": "white",
           "landcolor": "#E5ECF6",
           "showlakes": true,
           "showland": true,
           "subunitcolor": "white"
          },
          "hoverlabel": {
           "align": "left"
          },
          "hovermode": "closest",
          "mapbox": {
           "style": "light"
          },
          "paper_bgcolor": "white",
          "plot_bgcolor": "#E5ECF6",
          "polar": {
           "angularaxis": {
            "gridcolor": "white",
            "linecolor": "white",
            "ticks": ""
           },
           "bgcolor": "#E5ECF6",
           "radialaxis": {
            "gridcolor": "white",
            "linecolor": "white",
            "ticks": ""
           }
          },
          "scene": {
           "xaxis": {
            "backgroundcolor": "#E5ECF6",
            "gridcolor": "white",
            "gridwidth": 2,
            "linecolor": "white",
            "showbackground": true,
            "ticks": "",
            "zerolinecolor": "white"
           },
           "yaxis": {
            "backgroundcolor": "#E5ECF6",
            "gridcolor": "white",
            "gridwidth": 2,
            "linecolor": "white",
            "showbackground": true,
            "ticks": "",
            "zerolinecolor": "white"
           },
           "zaxis": {
            "backgroundcolor": "#E5ECF6",
            "gridcolor": "white",
            "gridwidth": 2,
            "linecolor": "white",
            "showbackground": true,
            "ticks": "",
            "zerolinecolor": "white"
           }
          },
          "shapedefaults": {
           "line": {
            "color": "#2a3f5f"
           }
          },
          "ternary": {
           "aaxis": {
            "gridcolor": "white",
            "linecolor": "white",
            "ticks": ""
           },
           "baxis": {
            "gridcolor": "white",
            "linecolor": "white",
            "ticks": ""
           },
           "bgcolor": "#E5ECF6",
           "caxis": {
            "gridcolor": "white",
            "linecolor": "white",
            "ticks": ""
           }
          },
          "title": {
           "x": 0.05
          },
          "xaxis": {
           "automargin": true,
           "gridcolor": "white",
           "linecolor": "white",
           "ticks": "",
           "title": {
            "standoff": 15
           },
           "zerolinecolor": "white",
           "zerolinewidth": 2
          },
          "yaxis": {
           "automargin": true,
           "gridcolor": "white",
           "linecolor": "white",
           "ticks": "",
           "title": {
            "standoff": 15
           },
           "zerolinecolor": "white",
           "zerolinewidth": 2
          }
         }
        }
       }
      }
     },
     "metadata": {},
     "output_type": "display_data"
    }
   ],
   "source": [
    "\n",
    "\n",
    "import numpy as np\n",
    "import pandas as pd\n",
    "import os\n",
    "import gensim\n",
    "\n",
    "# nltk.download('all')\n",
    "\n",
    "# Step 1: Tokenise words and sentences\n",
    "\n",
    "# Use nltk's punkt tokenizer for sentence tokenization\n",
    "from nltk import sent_tokenize\n",
    "\n",
    "story = []\n",
    "\n",
    "got_path = \"C:\\\\Sudhindra\\\\GenAI\\\\genai_learn\\\\GOT\"\n",
    "\n",
    "for file_name in os.listdir(got_path):\n",
    "    file_path = os.path.join(got_path, file_name)\n",
    "    with open(file_path, \"r\", encoding=\"unicode_escape\") as f:\n",
    "        corpus = f.read()\n",
    "        raw_sentences = sent_tokenize(corpus)\n",
    "        for sentence in raw_sentences:\n",
    "                # Tokenize the sentence using simple_preprocess\n",
    "            tokens = simple_preprocess(sentence)\n",
    "                # Append tokens to the story list\n",
    "            story.append(tokens)\n",
    "\n",
    "print(\"Number of sentences in the story:\", len(story))\n",
    "\n",
    "# 2. Train the model\n",
    "\n",
    "# Use gensim's simple_preprocess for tokenization\n",
    "from gensim.utils import simple_preprocess\n",
    "\n",
    "model = gensim.models.Word2Vec(window=10, min_count=5, vector_size=150) # window is context size, min_count is minimum frequency of words to be considered, vector_size is the size of the word vectors\n",
    "model.build_vocab(story)\n",
    "\n",
    "print(model.corpus_count)\n",
    "\n",
    "model.train(story, total_examples=model.corpus_count, epochs=model.epochs)\n",
    "\n",
    "# model.save(\"word2vec_got.model\")  # Save the model\n",
    "\n",
    "# 3. compressing the model from vector size of 150 to 3\n",
    "\n",
    "# Use sklearn's PCA for dimensionality reduction\n",
    "from sklearn.decomposition import PCA\n",
    "\n",
    "vectors = model.wv.get_normed_vectors()  # Get the normalized vectors\n",
    "pca = PCA(n_components=3)  # Initialize PCA for 2D projection\n",
    "x = pca.fit_transform(vectors)  # Fit PCA to the vectors\n",
    "print(x.shape)  # Print the shape of the transformed vectors\n",
    "\n",
    "# 4. Plotting the vectors\n",
    "\n",
    "# Use matplotlib for plotting\n",
    "\n",
    "import plotly.express as px\n",
    "# Define a dummy variable for color (e.g., cluster labels or categories)\n",
    "# Here, we use a simple range as an example\n",
    "y = np.arange(len(x))\n",
    "\n",
    "# Adjust the slicing to ensure it is within bounds\n",
    "fig = px.scatter_3d(\n",
    "    x=x[200:250, 0], \n",
    "    y=x[200:250, 1], \n",
    "    z=x[200:250, 2], \n",
    "    color=y[200:250]\n",
    ")\n",
    "fig.show()\n",
    "\n",
    "\n",
    "# print(len(model.wv[\"king\"]),len(model.wv[\"queen\"]))  # Get the vector for the word \"king\"\n",
    "\n",
    "# similar = model.wv.most_similar(\"king\", topn=5)  # Find the most similar words to \"king\"\n",
    "# print(\"Most similar words to 'king':\")\n",
    "# for similar_word, similarity in similar:\n",
    "#     print(f\"{similar_word}: {similarity}\")\n",
    "\n"
   ]
  },
  {
   "cell_type": "code",
   "execution_count": null,
   "metadata": {},
   "outputs": [],
   "source": []
  }
 ],
 "metadata": {
  "kernelspec": {
   "display_name": "base",
   "language": "python",
   "name": "python3"
  },
  "language_info": {
   "codemirror_mode": {
    "name": "ipython",
    "version": 3
   },
   "file_extension": ".py",
   "mimetype": "text/x-python",
   "name": "python",
   "nbconvert_exporter": "python",
   "pygments_lexer": "ipython3",
   "version": "3.12.7"
  }
 },
 "nbformat": 4,
 "nbformat_minor": 2
}

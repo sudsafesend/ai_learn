{
 "cells": [
  {
   "cell_type": "markdown",
   "metadata": {},
   "source": [
    "Frequency based encoding Techniques\n",
    "1. OHE - One Hot Encoding\n",
    "2. BOW - Bag Of Words\n",
    "3. TF-IDF -Term Frequency, Inverse Document Frequency\n",
    "    Term Frequency = (No. of times the term is available in the DOcument)/Total number of Terms\n",
    "    IDF = log(Total number of corpus in the document/number of documents with that term)\n",
    "4. N_GRAM - 1 gram, bigram, trigram\n",
    "5. Custom Techniques\n",
    "\n",
    "<b>Nomenclature</b>\n",
    "1. Corpus->Paragraph.\n",
    "2. Document->Sentence\n",
    "3. Token->Word\n",
    "4. VOcabulary->Unique collection of words in a corpus\n",
    "\n"
   ]
  },
  {
   "cell_type": "code",
   "execution_count": 1,
   "metadata": {},
   "outputs": [],
   "source": [
    "import pandas as pd"
   ]
  },
  {
   "cell_type": "code",
   "execution_count": 3,
   "metadata": {},
   "outputs": [
    {
     "name": "stdout",
     "output_type": "stream",
     "text": [
      "                    text  output\n",
      "0   people watch ineuron       1\n",
      "1  ineuron watch ineuron       1\n",
      "2   people write comment       0\n",
      "3  ineuron write comment       0\n"
     ]
    }
   ],
   "source": [
    "data=pd.DataFrame({\"text\":[\"people watch ineuron\",\"ineuron watch ineuron\",\"people write comment\",\"ineuron write comment\"],\"output\":[1,1,0,0]})\n",
    "\n",
    "print(data)"
   ]
  },
  {
   "cell_type": "code",
   "execution_count": null,
   "metadata": {},
   "outputs": [
    {
     "name": "stdout",
     "output_type": "stream",
     "text": [
      "   text_ineuron watch ineuron  text_ineuron write comment  \\\n",
      "0                         0.0                         0.0   \n",
      "1                         1.0                         0.0   \n",
      "2                         0.0                         0.0   \n",
      "3                         0.0                         1.0   \n",
      "\n",
      "   text_people watch ineuron  text_people write comment  \n",
      "0                        1.0                        0.0  \n",
      "1                        0.0                        0.0  \n",
      "2                        0.0                        1.0  \n",
      "3                        0.0                        0.0  \n"
     ]
    }
   ],
   "source": [
    "#One Hot Encoding\n",
    "from sklearn.preprocessing import OneHotEncoder\n",
    "\n",
    "encoder = OneHotEncoder(sparse_output=False)\n",
    "encoder.fit(data[['text']])\n",
    "encoded_data = encoder.transform(data[['text']])\n",
    "encoded_ohe = pd.DataFrame(encoded_data, columns=encoder.get_feature_names_out(['text']))\n",
    "print(encoded_ohe)\n",
    "\n",
    "#    text_ineuron watch ineuron  text_ineuron write comment  \\\n",
    "# 0                         0.0                         0.0   \n",
    "# 1                         1.0                         0.0   \n",
    "# 2                         0.0                         0.0   \n",
    "# 3                         0.0                         1.0   \n",
    "\n",
    "#    text_people watch ineuron  text_people write comment  \n",
    "# 0                        1.0                        0.0  \n",
    "# 1                        0.0                        0.0  \n",
    "# 2                        0.0                        1.0  \n",
    "# 3                        0.0                        0.0  "
   ]
  },
  {
   "cell_type": "code",
   "execution_count": null,
   "metadata": {},
   "outputs": [
    {
     "name": "stdout",
     "output_type": "stream",
     "text": [
      "   comment  ineuron  people  watch  write\n",
      "0        0        1       1      1      0\n",
      "1        0        2       0      1      0\n",
      "2        1        0       1      0      1\n",
      "3        1        1       0      0      1\n"
     ]
    }
   ],
   "source": [
    "# BOW\n",
    "\n",
    "from sklearn.feature_extraction.text import CountVectorizer\n",
    "\n",
    "# Initialize CountVectorizer\n",
    "BOW = CountVectorizer()\n",
    "# Fit and transform the text data\n",
    "BOW_matrix = BOW.fit_transform(data['text'])\n",
    "# Convert to DataFrame for better readability\n",
    "BOW_df = pd.DataFrame(BOW_matrix.toarray(), columns=BOW.get_feature_names_out())\n",
    "print(BOW_df)\n",
    "\n",
    "# output\n",
    "#    comment  ineuron  people  watch  write\n",
    "# 0        0        1       1      1      0\n",
    "# 1        0        2       0      1      0\n",
    "# 2        1        0       1      0      1\n",
    "# 3        1        1       0      0      1"
   ]
  },
  {
   "cell_type": "code",
   "execution_count": null,
   "metadata": {},
   "outputs": [
    {
     "name": "stdout",
     "output_type": "stream",
     "text": [
      "   ineuron watch  ineuron write  people watch  people write  watch ineuron  \\\n",
      "0              0              0             1             0              1   \n",
      "1              1              0             0             0              1   \n",
      "2              0              0             0             1              0   \n",
      "3              0              1             0             0              0   \n",
      "\n",
      "   write comment  \n",
      "0              0  \n",
      "1              0  \n",
      "2              1  \n",
      "3              1  \n"
     ]
    }
   ],
   "source": [
    "# Bigram\n",
    "from sklearn.feature_extraction.text import CountVectorizer\n",
    "\n",
    "# Initialize CountVectorizer with ngram_range=(2, 2) for bigrams\n",
    "BOW = CountVectorizer(ngram_range=(2, 2))\n",
    "# Fit and transform the text data\n",
    "BOW_matrix = BOW.fit_transform(data['text'])\n",
    "encoded_df_bigram = pd.DataFrame(BOW_matrix.toarray(), columns=BOW.get_feature_names_out())\n",
    "print(encoded_df_bigram)\n",
    "\n",
    "# # output\n",
    "#         ineuron watch  ineuron write  people watch  people write  watch ineuron  write comment \\\n",
    "# 0              0              0             1             0              1          0\n",
    "# 1              1              0             0             0              1          0\n",
    "# 2              0              0             0             1              0          1            \n",
    "# 3              0              1             0             0              0          1\n"
   ]
  },
  {
   "cell_type": "code",
   "execution_count": null,
   "metadata": {},
   "outputs": [
    {
     "name": "stdout",
     "output_type": "stream",
     "text": [
      "    comment   ineuron    people     watch     write\n",
      "0  0.000000  0.496816  0.613667  0.613667  0.000000\n",
      "1  0.000000  0.850816  0.000000  0.525464  0.000000\n",
      "2  0.577350  0.000000  0.577350  0.000000  0.577350\n",
      "3  0.613667  0.496816  0.000000  0.000000  0.613667\n"
     ]
    }
   ],
   "source": [
    "#tf-idf\n",
    "from sklearn.feature_extraction.text import TfidfVectorizer\n",
    "\n",
    "# Initialize TfidfVectorizer\n",
    "tfidf = TfidfVectorizer()\n",
    "# Fit and transform the text data\n",
    "tfidf_matrix = tfidf.fit_transform(data['text'])\n",
    "# Convert to DataFrame for better readability\n",
    "tfidf_df = pd.DataFrame(tfidf_matrix.toarray(), columns=tfidf.get_feature_names_out())\n",
    "print(tfidf_df)\n",
    "\n",
    "#     comment   ineuron    people     watch     write\n",
    "# 0  0.000000  0.496816  0.613667  0.613667  0.000000\n",
    "# 1  0.000000  0.850816  0.000000  0.525464  0.000000\n",
    "# 2  0.577350  0.000000  0.577350  0.000000  0.577350\n",
    "# 3  0.613667  0.496816  0.000000  0.000000  0.613667"
   ]
  }
 ],
 "metadata": {
  "kernelspec": {
   "display_name": "base",
   "language": "python",
   "name": "python3"
  },
  "language_info": {
   "codemirror_mode": {
    "name": "ipython",
    "version": 3
   },
   "file_extension": ".py",
   "mimetype": "text/x-python",
   "name": "python",
   "nbconvert_exporter": "python",
   "pygments_lexer": "ipython3",
   "version": "3.12.7"
  }
 },
 "nbformat": 4,
 "nbformat_minor": 2
}
